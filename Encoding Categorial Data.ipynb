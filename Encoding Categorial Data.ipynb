{
  "nbformat": 4,
  "nbformat_minor": 0,
  "metadata": {
    "colab": {
      "provenance": []
    },
    "kernelspec": {
      "name": "python3",
      "display_name": "Python 3"
    },
    "language_info": {
      "name": "python"
    }
  },
  "cells": [
    {
      "cell_type": "code",
      "source": [
        "# Importing the necessary libraries\n",
        "import pandas as  pd\n",
        "import numpy as np\n",
        "from sklearn.compose import ColumnTransformer\n",
        "from sklearn.preprocessing import OneHotEncoder, LabelEncoder\n",
        "\n",
        "# Load the dataset\n",
        "df= pd.read_csv('titanic.csv')\n",
        "\n",
        "# Identify the categorical data\n",
        "categorial_features= ['Sex','Embarked','Pclass']\n",
        "\n",
        "# Implement an instance of the ColumnTransformer class\n",
        "ct= ColumnTransformer(transformers=[('encoder',OneHotEncoder(),categorial_features)],remainder='passthrough')\n",
        "\n",
        "# Apply the fit_transform method on the instance of ColumnTransformer\n",
        "X = ct.fit_transform(df)\n",
        "\n",
        "# Convert the output into a NumPy array\n",
        "X = np.array(X)\n",
        "\n",
        "# Use LabelEncoder to encode binary categorical data\n",
        "le = LabelEncoder()\n",
        "y= le.fit_transform(df['Survived'])\n",
        "\n",
        "# Print the updated matrix of features and the dependent variable vector\n",
        "print(\"Updated matrix of features: \\n\", X)\n",
        "print(\"Updated dependent variable vector: \\n\", y)\n"
      ],
      "metadata": {
        "id": "SX7E0tItWTAb"
      },
      "execution_count": null,
      "outputs": []
    }
  ]
}